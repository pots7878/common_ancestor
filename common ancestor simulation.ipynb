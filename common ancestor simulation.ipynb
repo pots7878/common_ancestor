{
 "cells": [
  {
   "cell_type": "code",
   "execution_count": 1,
   "metadata": {},
   "outputs": [],
   "source": [
    "#import external modules \n",
    "%matplotlib inline \n",
    "import matplotlib.pyplot as plt \n",
    "import numpy as np"
   ]
  },
  {
   "cell_type": "code",
   "execution_count": 2,
   "metadata": {},
   "outputs": [],
   "source": [
    "#generate times u dependent on N and k \n",
    "#then sum them to get tmrca\n",
    "#do that 1000x\n",
    "#create histogram "
   ]
  },
  {
   "cell_type": "code",
   "execution_count": 21,
   "metadata": {},
   "outputs": [],
   "source": [
    "Ne = 1000\n",
    "samplesize = 10"
   ]
  },
  {
   "cell_type": "code",
   "execution_count": 22,
   "metadata": {},
   "outputs": [],
   "source": [
    "def get_u(Ne, k):\n",
    "    return -np.log(np.random.uniform(0,1)) * 4 * Ne / (k * (k-1))"
   ]
  },
  {
   "cell_type": "code",
   "execution_count": 23,
   "metadata": {},
   "outputs": [
    {
     "name": "stdout",
     "output_type": "stream",
     "text": [
      "497.2995010014052\n"
     ]
    }
   ],
   "source": [
    "print(get_u(Ne, 2))"
   ]
  },
  {
   "cell_type": "code",
   "execution_count": 30,
   "metadata": {},
   "outputs": [],
   "source": [
    "def get_tmrca(Ne, n):\n",
    "    tmrca = 0\n",
    "    for k in range(2, n+1):\n",
    "        u = get_u(Ne, k)\n",
    "        tmrca += u\n",
    "    return tmrca"
   ]
  },
  {
   "cell_type": "code",
   "execution_count": 31,
   "metadata": {},
   "outputs": [
    {
     "data": {
      "text/plain": [
       "2208.151499370769"
      ]
     },
     "execution_count": 31,
     "metadata": {},
     "output_type": "execute_result"
    }
   ],
   "source": [
    "get_tmrca(Ne, samplesize)"
   ]
  },
  {
   "cell_type": "code",
   "execution_count": 32,
   "metadata": {},
   "outputs": [],
   "source": [
    "z = [get_tmrca(Ne, samplesize) for rep in range(1000)]"
   ]
  },
  {
   "cell_type": "code",
   "execution_count": 34,
   "metadata": {},
   "outputs": [
    {
     "data": {
      "text/plain": [
       "(array([ 5., 31., 60., 71., 91., 94., 82., 90., 63., 64., 50., 53., 45.,\n",
       "        30., 30., 24., 14., 18., 13.,  9.,  8., 12.,  7., 10.,  1.,  6.,\n",
       "         1.,  0.,  1.,  2.,  1.,  1.,  3.,  1.,  2.,  0.,  3.,  1.,  0.,\n",
       "         0.,  1.,  0.,  0.,  0.,  1.,  0.,  0.,  0.,  0.,  1.]),\n",
       " array([  386.04396539,   725.40388829,  1064.76381118,  1404.12373408,\n",
       "         1743.48365697,  2082.84357987,  2422.20350276,  2761.56342566,\n",
       "         3100.92334855,  3440.28327145,  3779.64319434,  4119.00311724,\n",
       "         4458.36304013,  4797.72296303,  5137.08288592,  5476.44280882,\n",
       "         5815.80273171,  6155.16265461,  6494.5225775 ,  6833.8825004 ,\n",
       "         7173.24242329,  7512.60234619,  7851.96226908,  8191.32219198,\n",
       "         8530.68211487,  8870.04203777,  9209.40196066,  9548.76188356,\n",
       "         9888.12180645, 10227.48172935, 10566.84165224, 10906.20157514,\n",
       "        11245.56149803, 11584.92142093, 11924.28134382, 12263.64126672,\n",
       "        12603.00118961, 12942.36111251, 13281.72103541, 13621.0809583 ,\n",
       "        13960.4408812 , 14299.80080409, 14639.16072699, 14978.52064988,\n",
       "        15317.88057278, 15657.24049567, 15996.60041857, 16335.96034146,\n",
       "        16675.32026436, 17014.68018725, 17354.04011015]),\n",
       " <a list of 50 Patch objects>)"
      ]
     },
     "execution_count": 34,
     "metadata": {},
     "output_type": "execute_result"
    },
    {
     "data": {
      "image/png": "[encoded data removed]",
      "text/plain": [
       "<Figure size 432x288 with 1 Axes>"
      ]
     },
     "metadata": {
      "needs_background": "light"
     },
     "output_type": "display_data"
    }
   ],
   "source": [
    "plt.hist(z, 50)"
   ]
  },
  {
   "cell_type": "code",
   "execution_count": 81,
   "metadata": {},
   "outputs": [],
   "source": [
    "import string\n",
    "import random\n",
    "\n",
    "def get_tree(Ne, n):\n",
    "    \n",
    "    alphabet = list(string.ascii_letters)\n",
    "    tips = alphabet[:n]\n",
    "    tmrca = 0.0\n",
    "    samplelist = [n - k for k in range(n - 1)]\n",
    "    for k in samplelist:\n",
    "        u  = get_u(Ne, k)\n",
    "        tmrca += u\n",
    "        pair = random.sample(tips,2)\n",
    "\n",
    "        l1 = tips.index(pair[0])\n",
    "        l2 = tips.index(pair[1])\n",
    "        \n",
    "        pair[0] = str(pair[0])+\":\"+str(tmrca)\n",
    "        pair[1] = str(pair[1])+\":\"+str(tmrca)\n",
    "        \n",
    "        tips[l1] = pair[:]\n",
    "        tips[l2] = tips[-1]\n",
    "        tips = tips[:-1]\n",
    "        \n",
    "    tipstring = str(tips)\n",
    "    translation_table = dict.fromkeys(map(ord, \"\\\\\"), None)\n",
    "    tipstring = tipstring.translate(translation_table)\n",
    "    translation_table = dict.fromkeys(map(ord, '\"'), None)\n",
    "    tipstring = tipstring.translate(translation_table)\n",
    "    translation_table = dict.fromkeys(map(ord, \"[\"), \"(\")\n",
    "    tipstring = tipstring.translate(translation_table)\n",
    "    translation_table = dict.fromkeys(map(ord, \"]\"), \")\")\n",
    "    tipstring = tipstring.translate(translation_table)\n",
    "    return tmrca, tipstring"
   ]
  },
  {
   "cell_type": "code",
   "execution_count": 82,
   "metadata": {},
   "outputs": [
    {
     "name": "stdout",
     "output_type": "stream",
     "text": [
      "['a', 'b', 'c', 'd', 'e', 'f', 'g', 'h', 'i', 'j', 'k', 'l', 'm', 'n', 'o', 'p', 'q', 'r', 's', 't', 'u', 'v', 'w', 'x', 'y', 'z', 'A', 'B', 'C', 'D', 'E', 'F', 'G', 'H', 'I', 'J', 'K', 'L', 'M', 'N', 'O', 'P', 'Q', 'R', 'S', 'T', 'U', 'V', 'W', 'X', 'Y', 'Z']\n"
     ]
    }
   ],
   "source": [
    "import string\n",
    "print(list(string.ascii_letters))"
   ]
  },
  {
   "cell_type": "code",
   "execution_count": 83,
   "metadata": {},
   "outputs": [
    {
     "name": "stdout",
     "output_type": "stream",
     "text": [
      "['a', 'b']\n"
     ]
    }
   ],
   "source": [
    "tips = ['a','b','c']\n",
    "print(tips[:-1])"
   ]
  },
  {
   "cell_type": "code",
   "execution_count": 85,
   "metadata": {},
   "outputs": [
    {
     "data": {
      "text/plain": [
       "(670.9995176746966,\n",
       " \"(('b:670.9995176746966', ('a:32.69340231391551', 'c:32.69340231391551'):670.9995176746966))\")"
      ]
     },
     "execution_count": 85,
     "metadata": {},
     "output_type": "execute_result"
    }
   ],
   "source": [
    "get_tree(Ne, 3)"
   ]
  },
  {
   "cell_type": "code",
   "execution_count": null,
   "metadata": {},
   "outputs": [],
   "source": []
  }
 ],
 "metadata": {
  "kernelspec": {
   "display_name": "Python 3",
   "language": "python",
   "name": "python3"
  },
  "language_info": {
   "codemirror_mode": {
    "name": "ipython",
    "version": 3
   },
   "file_extension": ".py",
   "mimetype": "text/x-python",
   "name": "python",
   "nbconvert_exporter": "python",
   "pygments_lexer": "ipython3",
   "version": "3.7.4"
  }
 },
 "nbformat": 4,
 "nbformat_minor": 2
}
